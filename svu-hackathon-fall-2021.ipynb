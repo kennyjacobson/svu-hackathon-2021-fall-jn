{
 "cells": [
  {
   "cell_type": "markdown",
   "id": "539245b8",
   "metadata": {},
   "source": [
    "## Welcome to the SVU Fall 2021 Hackathon"
   ]
  },
  {
   "cell_type": "markdown",
   "id": "7e65a785",
   "metadata": {},
   "source": [
    "First we'll get a hold of the raw data"
   ]
  },
  {
   "cell_type": "code",
   "execution_count": 1,
   "id": "9f7dded1",
   "metadata": {},
   "outputs": [],
   "source": [
    "import pandas as pd"
   ]
  },
  {
   "cell_type": "code",
   "execution_count": 2,
   "id": "62b7bd9e",
   "metadata": {},
   "outputs": [
    {
     "name": "stdout",
     "output_type": "stream",
     "text": [
      "(113405, 62)\n"
     ]
    }
   ],
   "source": [
    "all_df = pd.read_csv('./data/owid-covid-data.csv')\n",
    "print(all_df.shape)"
   ]
  },
  {
   "cell_type": "markdown",
   "id": "b2999ed9",
   "metadata": {},
   "source": [
    "There is some continent data mixed in with the country data. Let's filter that out so we only have countries represented."
   ]
  },
  {
   "cell_type": "code",
   "execution_count": 3,
   "id": "e958e484",
   "metadata": {},
   "outputs": [
    {
     "name": "stdout",
     "output_type": "stream",
     "text": [
      "countries_df (108187, 62)\n"
     ]
    }
   ],
   "source": [
    "countries_df = all_df[all_df.continent.notnull()]\n",
    "print(\"countries_df\",countries_df.shape)"
   ]
  },
  {
   "cell_type": "markdown",
   "id": "994a9e82",
   "metadata": {},
   "source": [
    "Let's take a column at the columns we are dealing with..."
   ]
  },
  {
   "cell_type": "code",
   "execution_count": 4,
   "id": "b260a509",
   "metadata": {},
   "outputs": [
    {
     "name": "stdout",
     "output_type": "stream",
     "text": [
      "iso_code\n",
      "continent\n",
      "location\n",
      "date\n",
      "total_cases\n",
      "new_cases\n",
      "new_cases_smoothed\n",
      "total_deaths\n",
      "new_deaths\n",
      "new_deaths_smoothed\n",
      "total_cases_per_million\n",
      "new_cases_per_million\n",
      "new_cases_smoothed_per_million\n",
      "total_deaths_per_million\n",
      "new_deaths_per_million\n",
      "new_deaths_smoothed_per_million\n",
      "reproduction_rate\n",
      "icu_patients\n",
      "icu_patients_per_million\n",
      "hosp_patients\n",
      "hosp_patients_per_million\n",
      "weekly_icu_admissions\n",
      "weekly_icu_admissions_per_million\n",
      "weekly_hosp_admissions\n",
      "weekly_hosp_admissions_per_million\n",
      "new_tests\n",
      "total_tests\n",
      "total_tests_per_thousand\n",
      "new_tests_per_thousand\n",
      "new_tests_smoothed\n",
      "new_tests_smoothed_per_thousand\n",
      "positive_rate\n",
      "tests_per_case\n",
      "tests_units\n",
      "total_vaccinations\n",
      "people_vaccinated\n",
      "people_fully_vaccinated\n",
      "total_boosters\n",
      "new_vaccinations\n",
      "new_vaccinations_smoothed\n",
      "total_vaccinations_per_hundred\n",
      "people_vaccinated_per_hundred\n",
      "people_fully_vaccinated_per_hundred\n",
      "total_boosters_per_hundred\n",
      "new_vaccinations_smoothed_per_million\n",
      "stringency_index\n",
      "population\n",
      "population_density\n",
      "median_age\n",
      "aged_65_older\n",
      "aged_70_older\n",
      "gdp_per_capita\n",
      "extreme_poverty\n",
      "cardiovasc_death_rate\n",
      "diabetes_prevalence\n",
      "female_smokers\n",
      "male_smokers\n",
      "handwashing_facilities\n",
      "hospital_beds_per_thousand\n",
      "life_expectancy\n",
      "human_development_index\n",
      "excess_mortality\n"
     ]
    }
   ],
   "source": [
    "for col in countries_df.columns:\n",
    "    print(col)"
   ]
  },
  {
   "cell_type": "markdown",
   "id": "871f2507",
   "metadata": {},
   "source": [
    "Let's now try a summary"
   ]
  },
  {
   "cell_type": "code",
   "execution_count": 5,
   "id": "477aa501",
   "metadata": {},
   "outputs": [
    {
     "name": "stdout",
     "output_type": "stream",
     "text": [
      "              location   deaths\n",
      "0          Afghanistan   7118.0\n",
      "1              Albania   2498.0\n",
      "2              Algeria   5269.0\n",
      "3              Andorra    130.0\n",
      "4               Angola   1217.0\n",
      "..                 ...      ...\n",
      "219            Vietnam  11064.0\n",
      "220  Wallis and Futuna      0.0\n",
      "221              Yemen   1472.0\n",
      "222             Zambia   3602.0\n",
      "223           Zimbabwe   4419.0\n",
      "\n",
      "[224 rows x 2 columns]\n"
     ]
    }
   ],
   "source": [
    "death_sum_df = countries_df.groupby(\"location\")[\"new_deaths\"].sum().reset_index(name ='deaths')\n",
    "print(death_sum_df)"
   ]
  },
  {
   "cell_type": "markdown",
   "id": "817b63ba",
   "metadata": {},
   "source": [
    "Let's try some graphing now..."
   ]
  },
  {
   "cell_type": "code",
   "execution_count": 6,
   "id": "17c7d381",
   "metadata": {},
   "outputs": [
    {
     "data": {
      "text/plain": [
       "<AxesSubplot:>"
      ]
     },
     "execution_count": 6,
     "metadata": {},
     "output_type": "execute_result"
    },
    {
     "data": {
      "image/png": "[encoded data removed]",
      "text/plain": [
       "<Figure size 432x288 with 1 Axes>"
      ]
     },
     "metadata": {
      "needs_background": "light"
     },
     "output_type": "display_data"
    }
   ],
   "source": [
    "death_sum_df.plot()"
   ]
  },
  {
   "cell_type": "markdown",
   "id": "fbf28414",
   "metadata": {},
   "source": [
    "Let's look at just countries with more than 150,000 total deaths."
   ]
  },
  {
   "cell_type": "code",
   "execution_count": 7,
   "id": "1ffcf1ca",
   "metadata": {},
   "outputs": [
    {
     "name": "stdout",
     "output_type": "stream",
     "text": [
      "          location    deaths\n",
      "27          Brazil  580413.0\n",
      "91           India  439020.0\n",
      "128         Mexico  259326.0\n",
      "158           Peru  198263.0\n",
      "165         Russia  180009.0\n",
      "213  United States  640108.0\n"
     ]
    },
    {
     "data": {
      "text/plain": [
       "<AxesSubplot:xlabel='location'>"
      ]
     },
     "execution_count": 7,
     "metadata": {},
     "output_type": "execute_result"
    },
    {
     "data": {
      "image/png": "[encoded data removed]",
      "text/plain": [
       "<Figure size 1440x720 with 1 Axes>"
      ]
     },
     "metadata": {
      "needs_background": "light"
     },
     "output_type": "display_data"
    }
   ],
   "source": [
    "death_sum_high_df = death_sum_df[death_sum_df[\"deaths\"] > 150_000]\n",
    "print(death_sum_high_df)\n",
    "death_sum_high_df.plot(x=\"location\",y=\"deaths\", figsize=(20,10))"
   ]
  },
  {
   "cell_type": "markdown",
   "id": "305660b1",
   "metadata": {},
   "source": [
    "Let's try a scatter plot showing \"beds per thousand\" vs \"deaths\""
   ]
  },
  {
   "cell_type": "code",
   "execution_count": 8,
   "id": "f301814d",
   "metadata": {},
   "outputs": [
    {
     "name": "stdout",
     "output_type": "stream",
     "text": [
      "     hospital_beds_per_thousand    deaths\n",
      "0                          0.50    7118.0\n",
      "1                          2.89    2498.0\n",
      "2                          1.90    5269.0\n",
      "3                          3.80      44.0\n",
      "4                          5.00  111812.0\n",
      "..                          ...       ...\n",
      "166                        0.80    4010.0\n",
      "167                        2.60   11064.0\n",
      "168                        0.70    1472.0\n",
      "169                        2.00    3602.0\n",
      "170                        1.70    4419.0\n",
      "\n",
      "[171 rows x 2 columns]\n"
     ]
    }
   ],
   "source": [
    "death_hospital_beds_df = countries_df.groupby([\"location\",\"hospital_beds_per_thousand\"])[\"new_deaths\"].sum().reset_index(name ='deaths')\n",
    "death_hospital_beds_df = death_hospital_beds_df[[\"hospital_beds_per_thousand\",\"deaths\"]]\n",
    "print(death_hospital_beds_df)"
   ]
  },
  {
   "cell_type": "code",
   "execution_count": 9,
   "id": "5466dd5b",
   "metadata": {},
   "outputs": [
    {
     "data": {
      "text/plain": [
       "<AxesSubplot:xlabel='hospital_beds_per_thousand', ylabel='deaths'>"
      ]
     },
     "execution_count": 9,
     "metadata": {},
     "output_type": "execute_result"
    },
    {
     "data": {
      "image/png": "[encoded data removed]",
      "text/plain": [
       "<Figure size 432x288 with 1 Axes>"
      ]
     },
     "metadata": {
      "needs_background": "light"
     },
     "output_type": "display_data"
    }
   ],
   "source": [
    "death_hospital_beds_df.plot.scatter(x=\"hospital_beds_per_thousand\",y=\"deaths\")"
   ]
  },
  {
   "cell_type": "markdown",
   "id": "33792f02",
   "metadata": {},
   "source": [
    "How about we trying some machine learning on this scatter data? \n",
    "It seems like a good candidate for a K-Means Clusterting algorithm. This will help find natural groups in our data. "
   ]
  },
  {
   "cell_type": "markdown",
   "id": "1fb3cd01",
   "metadata": {},
   "source": [
    "### Do the magic\n",
    "Prep the dataset"
   ]
  },
  {
   "cell_type": "code",
   "execution_count": 10,
   "id": "b4de7a44",
   "metadata": {},
   "outputs": [
    {
     "name": "stdout",
     "output_type": "stream",
     "text": [
      "[[5.00000e-01 7.11800e+03]\n",
      " [2.89000e+00 2.49800e+03]\n",
      " [1.90000e+00 5.26900e+03]\n",
      " [3.80000e+00 4.40000e+01]\n",
      " [5.00000e+00 1.11812e+05]\n",
      " [4.20000e+00 4.84400e+03]\n",
      " [3.84000e+00 1.01200e+03]\n",
      " [7.37000e+00 1.07720e+04]\n",
      " [4.70000e+00 5.63600e+03]\n",
      " [2.90000e+00 3.54000e+02]\n",
      " [2.00000e+00 1.38800e+03]\n",
      " [8.00000e-01 2.61950e+04]\n",
      " [5.80000e+00 5.00000e+01]\n",
      " [1.10000e+01 3.78000e+03]\n",
      " [5.64000e+00 2.53800e+04]\n",
      " [1.30000e+00 3.62000e+02]\n",
      " [5.00000e-01 1.28000e+02]\n",
      " [1.70000e+00 3.00000e+00]\n",
      " [1.10000e+00 1.84520e+04]\n",
      " [3.50000e+00 9.80300e+03]\n",
      " [1.80000e+00 2.26100e+03]\n",
      " [2.20000e+00 5.80413e+05]\n",
      " [2.70000e+00 9.00000e+00]\n",
      " [7.45400e+00 1.88960e+04]\n",
      " [4.00000e-01 1.71000e+02]\n",
      " [8.00000e-01 3.80000e+01]\n",
      " [8.00000e-01 1.90300e+03]\n",
      " [1.30000e+00 1.35000e+03]\n",
      " [2.50000e+00 2.69890e+04]\n",
      " [2.10000e+00 3.13000e+02]\n",
      " [1.00000e+00 1.00000e+02]\n",
      " [2.11000e+00 3.69370e+04]\n",
      " [4.34000e+00 4.61900e+03]\n",
      " [1.71000e+00 1.24945e+05]\n",
      " [2.20000e+00 1.47000e+02]\n",
      " [1.13000e+00 5.50600e+03]\n",
      " [5.54000e+00 8.33400e+03]\n",
      " [5.20000e+00 5.30300e+03]\n",
      " [3.40000e+00 5.03000e+02]\n",
      " [6.63000e+00 3.04040e+04]\n",
      " [2.50000e+00 2.58600e+03]\n",
      " [1.40000e+00 1.57000e+02]\n",
      " [3.80000e+00 4.00000e+00]\n",
      " [1.60000e+00 4.00800e+03]\n",
      " [1.50000e+00 2.34580e+04]\n",
      " [1.60000e+00 1.67360e+04]\n",
      " [1.30000e+00 2.91800e+03]\n",
      " [2.10000e+00 1.26000e+02]\n",
      " [7.00000e-01 3.80000e+01]\n",
      " [4.69000e+00 1.29200e+03]\n",
      " [2.10000e+00 1.10100e+03]\n",
      " [3.00000e-01 4.67500e+03]\n",
      " [2.30000e+00 4.96000e+02]\n",
      " [3.28000e+00 1.02900e+03]\n",
      " [5.98000e+00 1.14638e+05]\n",
      " [6.30000e+00 1.66000e+02]\n",
      " [1.10000e+00 3.19000e+02]\n",
      " [2.60000e+00 7.40800e+03]\n",
      " [8.00000e+00 9.22290e+04]\n",
      " [9.00000e-01 1.03600e+03]\n",
      " [4.21000e+00 1.36220e+04]\n",
      " [3.70000e+00 2.00000e+00]\n",
      " [6.00000e-01 1.19260e+04]\n",
      " [3.00000e-01 3.37000e+02]\n",
      " [1.60000e+00 6.22000e+02]\n",
      " [7.00000e-01 5.86000e+02]\n",
      " [7.00000e-01 8.85000e+03]\n",
      " [7.02000e+00 3.00580e+04]\n",
      " [2.91000e+00 3.30000e+01]\n",
      " [5.30000e-01 4.39020e+05]\n",
      " [1.04000e+00 1.33023e+05]\n",
      " [1.50000e+00 1.07794e+05]\n",
      " [1.40000e+00 2.08300e+04]\n",
      " [2.96000e+00 5.09200e+03]\n",
      " [2.99000e+00 7.04300e+03]\n",
      " [3.18000e+00 1.29221e+05]\n",
      " [1.70000e+00 1.51800e+03]\n",
      " [1.30500e+01 1.60800e+04]\n",
      " [1.40000e+00 1.04110e+04]\n",
      " [6.70000e+00 1.26550e+04]\n",
      " [1.40000e+00 4.72600e+03]\n",
      " [1.90000e+00 0.00000e+00]\n",
      " [2.00000e+00 2.41900e+03]\n",
      " [4.50000e+00 2.52800e+03]\n",
      " [1.50000e+00 1.40000e+01]\n",
      " [5.57000e+00 2.57800e+03]\n",
      " [2.90000e+00 8.05300e+03]\n",
      " [8.00000e-01 2.45000e+02]\n",
      " [3.70000e+00 4.24700e+03]\n",
      " [2.39700e+00 5.90000e+01]\n",
      " [6.56000e+00 4.56100e+03]\n",
      " [4.51000e+00 8.30000e+02]\n",
      " [2.00000e-01 9.56000e+02]\n",
      " [1.30000e+00 2.17700e+03]\n",
      " [1.90000e+00 1.66640e+04]\n",
      " [1.00000e-01 5.39000e+02]\n",
      " [4.48500e+00 4.41000e+02]\n",
      " [2.70000e+00 0.00000e+00]\n",
      " [3.40000e+00 3.10000e+01]\n",
      " [1.38000e+00 2.59326e+05]\n",
      " [5.80000e+00 6.40100e+03]\n",
      " [1.38000e+01 3.30000e+01]\n",
      " [7.00000e+00 9.37000e+02]\n",
      " [3.86100e+00 1.72400e+03]\n",
      " [1.10000e+00 1.26490e+04]\n",
      " [7.00000e-01 1.86400e+03]\n",
      " [9.00000e-01 1.53890e+04]\n",
      " [5.00000e+00 0.00000e+00]\n",
      " [3.00000e-01 1.07500e+04]\n",
      " [3.32000e+00 1.83680e+04]\n",
      " [2.61000e+00 2.60000e+01]\n",
      " [9.00000e-01 2.00000e+02]\n",
      " [3.00000e-01 1.99000e+02]\n",
      " [4.28000e+00 5.93800e+03]\n",
      " [3.60000e+00 8.14000e+02]\n",
      " [1.60000e+00 4.06400e+03]\n",
      " [6.00000e-01 2.58890e+04]\n",
      " [4.80000e+00 0.00000e+00]\n",
      " [2.30000e+00 7.06100e+03]\n",
      " [1.30000e+00 1.57670e+04]\n",
      " [1.60000e+00 1.98263e+05]\n",
      " [1.00000e+00 3.34480e+04]\n",
      " [6.62000e+00 7.53450e+04]\n",
      " [3.39000e+00 1.77430e+04]\n",
      " [1.20000e+00 6.02000e+02]\n",
      " [6.89200e+00 3.45700e+04]\n",
      " [8.05000e+00 1.80009e+05]\n",
      " [2.30000e+00 3.00000e+00]\n",
      " [1.30000e+00 1.04000e+02]\n",
      " [2.60000e+00 1.20000e+01]\n",
      " [3.80000e+00 9.00000e+01]\n",
      " [2.90000e+00 3.70000e+01]\n",
      " [2.70000e+00 8.51200e+03]\n",
      " [5.60900e+00 7.29200e+03]\n",
      " [3.60000e+00 1.04000e+02]\n",
      " [2.40000e+00 5.50000e+01]\n",
      " [5.82000e+00 1.25480e+04]\n",
      " [4.50000e+00 4.45000e+03]\n",
      " [1.40000e+00 0.00000e+00]\n",
      " [9.00000e-01 9.77000e+02]\n",
      " [2.32000e+00 8.22610e+04]\n",
      " [1.22700e+01 2.29200e+03]\n",
      " [2.97000e+00 8.43400e+04]\n",
      " [3.60000e+00 9.18500e+03]\n",
      " [8.00000e-01 2.83100e+03]\n",
      " [3.10000e+00 7.21000e+02]\n",
      " [2.22000e+00 1.46920e+04]\n",
      " [4.53000e+00 1.09880e+04]\n",
      " [1.50000e+00 2.01300e+03]\n",
      " [4.80000e+00 1.24000e+02]\n",
      " [7.00000e-01 5.00000e+01]\n",
      " [2.10000e+00 1.15890e+04]\n",
      " [5.90000e+00 6.70000e+01]\n",
      " [7.00000e-01 1.85000e+02]\n",
      " [2.60000e+00 0.00000e+00]\n",
      " [3.00000e+00 1.29100e+03]\n",
      " [2.30000e+00 2.34510e+04]\n",
      " [2.81000e+00 5.67100e+04]\n",
      " [7.40000e+00 0.00000e+00]\n",
      " [5.00000e-01 3.01200e+03]\n",
      " [8.80000e+00 5.70040e+04]\n",
      " [1.20000e+00 2.04100e+03]\n",
      " [2.54000e+00 1.32859e+05]\n",
      " [2.77000e+00 6.40108e+05]\n",
      " [2.80000e+00 6.03200e+03]\n",
      " [4.00000e+00 1.08200e+03]\n",
      " [8.00000e-01 4.01000e+03]\n",
      " [2.60000e+00 1.10640e+04]\n",
      " [7.00000e-01 1.47200e+03]\n",
      " [2.00000e+00 3.60200e+03]\n",
      " [1.70000e+00 4.41900e+03]]\n"
     ]
    }
   ],
   "source": [
    "import matplotlib.pyplot as plt\n",
    "X = death_hospital_beds_df.iloc[:, [0,1]].values\n",
    "print(X)"
   ]
  },
  {
   "cell_type": "markdown",
   "id": "c53cc6c8",
   "metadata": {},
   "source": [
    "Using the elbow method to find the optimal number of clusters"
   ]
  },
  {
   "cell_type": "code",
   "execution_count": 11,
   "id": "55f3db9c",
   "metadata": {},
   "outputs": [
    {
     "name": "stderr",
     "output_type": "stream",
     "text": [
      "C:\\Users\\k_jac\\anaconda3\\lib\\site-packages\\sklearn\\cluster\\_kmeans.py:881: UserWarning: KMeans is known to have a memory leak on Windows with MKL, when there are less chunks than available threads. You can avoid it by setting the environment variable OMP_NUM_THREADS=1.\n",
      "  warnings.warn(\n"
     ]
    },
    {
     "data": {
      "image/png": "[encoded data removed]",
      "text/plain": [
       "<Figure size 432x288 with 1 Axes>"
      ]
     },
     "metadata": {
      "needs_background": "light"
     },
     "output_type": "display_data"
    }
   ],
   "source": [
    "from sklearn.cluster import KMeans\n",
    "wcss = []\n",
    "for i in range(1,11):\n",
    "    kmeans = KMeans(n_clusters = i, init = 'k-means++', random_state = 42)\n",
    "    kmeans.fit(X)\n",
    "    wcss.append(kmeans.inertia_)\n",
    "plt.plot(range(1,11), wcss)\n",
    "plt.title(\"The Elbow Method\")\n",
    "plt.xlabel(\"Number of clusters\")\n",
    "plt.ylabel(\"WCSS\")\n",
    "plt.show()"
   ]
  },
  {
   "cell_type": "markdown",
   "id": "b6641c5c",
   "metadata": {},
   "source": [
    "Looking at the above chart, where does the descent start slowing down?  I'd say around 3."
   ]
  },
  {
   "cell_type": "markdown",
   "id": "07b61aaf",
   "metadata": {},
   "source": [
    "Let's now train the K-Means model on the dataset using a cluster number of 3"
   ]
  },
  {
   "cell_type": "code",
   "execution_count": 12,
   "id": "d7eccf6e",
   "metadata": {},
   "outputs": [],
   "source": [
    "kmeans = KMeans(n_clusters = 3, init = 'k-means++', random_state = 42)\n",
    "y_kmeans = kmeans.fit_predict(X)"
   ]
  },
  {
   "cell_type": "markdown",
   "id": "d01b5f72",
   "metadata": {},
   "source": [
    "Visualize the clusters"
   ]
  },
  {
   "cell_type": "code",
   "execution_count": 13,
   "id": "6e545893",
   "metadata": {},
   "outputs": [
    {
     "name": "stdout",
     "output_type": "stream",
     "text": [
      "[[3.00316883e+00 6.51755844e+03]\n",
      " [1.83333333e+00 5.53180333e+05]\n",
      " [3.70642857e+00 1.30433214e+05]]\n"
     ]
    },
    {
     "data": {
      "image/png": "[encoded data removed]",
      "text/plain": [
       "<Figure size 432x288 with 1 Axes>"
      ]
     },
     "metadata": {
      "needs_background": "light"
     },
     "output_type": "display_data"
    }
   ],
   "source": [
    "plt.scatter(X[y_kmeans == 0, 0], X[y_kmeans == 0, 1], s = 100, c = \"red\", label = \"Cluster 1\")\n",
    "plt.scatter(X[y_kmeans == 1, 0], X[y_kmeans == 1, 1], s = 100, c = \"blue\", label = \"Cluster 2\")\n",
    "plt.scatter(X[y_kmeans == 2, 0], X[y_kmeans == 2, 1], s = 100, c = \"green\", label = \"Cluster 3\")\n",
    "print(kmeans.cluster_centers_)\n",
    "plt.scatter(kmeans.cluster_centers_[:,0], kmeans.cluster_centers_[:,1], s=300, c=\"yellow\", label = \"Centroids\")\n",
    "plt.title(\"Cluster of Beds vs Deaths\")\n",
    "plt.xlabel(\"Hospital Beds Per Thousand\")\n",
    "plt.ylabel(\"Deaths\")\n",
    "plt.show()"
   ]
  },
  {
   "cell_type": "code",
   "execution_count": null,
   "id": "312c8df9",
   "metadata": {},
   "outputs": [],
   "source": []
  }
 ],
 "metadata": {
  "kernelspec": {
   "display_name": "Python 3",
   "language": "python",
   "name": "python3"
  },
  "language_info": {
   "codemirror_mode": {
    "name": "ipython",
    "version": 3
   },
   "file_extension": ".py",
   "mimetype": "text/x-python",
   "name": "python",
   "nbconvert_exporter": "python",
   "pygments_lexer": "ipython3",
   "version": "3.8.8"
  }
 },
 "nbformat": 4,
 "nbformat_minor": 5
}
